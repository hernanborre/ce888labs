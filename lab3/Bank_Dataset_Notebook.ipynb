{
 "cells": [
  {
   "cell_type": "code",
   "execution_count": 2,
   "metadata": {},
   "outputs": [],
   "source": [
    "import matplotlib\n",
    "import numpy as np\n",
    "import matplotlib.pyplot as plt\n",
    "import pandas as pd\n",
    "import seaborn as sns\n",
    "import itertools\n",
    "\n",
    "from sklearn.ensemble import RandomForestClassifier\n",
    "from sklearn.model_selection import cross_val_score\n",
    "from sklearn.metrics import confusion_matrix"
   ]
  },
  {
   "cell_type": "code",
   "execution_count": 6,
   "metadata": {},
   "outputs": [],
   "source": [
    "df = pd.read_csv(\"./bank-additional-full.csv\", delimiter = \";\")"
   ]
  },
  {
   "cell_type": "code",
   "execution_count": 7,
   "metadata": {},
   "outputs": [],
   "source": [
    "df_dummies = pd.get_dummies(df)\n",
    "df_dummies = df_dummies.drop([\"y_no\", \"duration\"], axis=1)"
   ]
  },
  {
   "cell_type": "code",
   "execution_count": 8,
   "metadata": {},
   "outputs": [],
   "source": [
    "features = list(df_dummies.drop([\"y_yes\"], axis = 1))\n",
    "target = \"y_yes\""
   ]
  },
  {
   "cell_type": "code",
   "execution_count": 9,
   "metadata": {},
   "outputs": [
    {
     "data": {
      "image/png": "[encoded data removed]",
      "text/plain": [
       "<matplotlib.figure.Figure at 0x7fc975288eb8>"
      ]
     },
     "metadata": {},
     "output_type": "display_data"
    }
   ],
   "source": [
    "# Ploting Histogram\n",
    "x = np.array(df_dummies[\"y_yes\"])\n",
    "#sns.distplot(x, kde = False, rug = False);\n",
    "sns_plot =  sns.distplot(x)"
   ]
  },
  {
   "cell_type": "code",
   "execution_count": 12,
   "metadata": {},
   "outputs": [],
   "source": [
    "clf = RandomForestClassifier(n_estimators = 10)\n",
    "\n",
    "# WATCH Overwriting variable \"x\"\n",
    "x = df_dummies.drop(\"y_yes\", axis = 1)\n",
    "y = df_dummies[\"y_yes\"]\n",
    "\n",
    "cross_val_array = cross_val_score(clf, x, y, cv = 10)"
   ]
  },
  {
   "cell_type": "code",
   "execution_count": 14,
   "metadata": {},
   "outputs": [
    {
     "name": "stdout",
     "output_type": "stream",
     "text": [
      "Results of 10-fold stratified cross-validation\n",
      "[0.8873513  0.87594076 0.22384074 0.81160476 0.74314154 0.4474387\n",
      " 0.30031561 0.11653314 0.33802817 0.21782419]\n"
     ]
    }
   ],
   "source": [
    "print(\"Results of 10-fold stratified cross-validation\")\n",
    "print(cross_val_array)"
   ]
  },
  {
   "cell_type": "code",
   "execution_count": 15,
   "metadata": {},
   "outputs": [
    {
     "data": {
      "text/plain": [
       "RandomForestClassifier(bootstrap=True, class_weight=None, criterion='gini',\n",
       "            max_depth=None, max_features='auto', max_leaf_nodes=None,\n",
       "            min_impurity_decrease=0.0, min_impurity_split=None,\n",
       "            min_samples_leaf=1, min_samples_split=2,\n",
       "            min_weight_fraction_leaf=0.0, n_estimators=10, n_jobs=1,\n",
       "            oob_score=False, random_state=None, verbose=0,\n",
       "            warm_start=False)"
      ]
     },
     "execution_count": 15,
     "metadata": {},
     "output_type": "execute_result"
    }
   ],
   "source": [
    "clf.fit(x,y)"
   ]
  },
  {
   "cell_type": "code",
   "execution_count": 16,
   "metadata": {},
   "outputs": [
    {
     "name": "stdout",
     "output_type": "stream",
     "text": [
      "Feature ranking:\n",
      "1. age (0.160931)\n",
      "2. euribor3m (0.105666)\n",
      "3. campaign (0.083186)\n",
      "4. nr.employed (0.071106)\n",
      "5. cons.conf.idx (0.029465)\n",
      "6. pdays (0.028913)\n",
      "7. emp.var.rate (0.025118)\n",
      "8. housing_yes (0.022032)\n",
      "9. housing_no (0.021117)\n",
      "10. poutcome_success (0.019898)\n",
      "11. cons.price.idx (0.018751)\n",
      "12. job_admin. (0.018253)\n",
      "13. marital_married (0.017539)\n",
      "14. education_high.school (0.016319)\n",
      "15. education_university.degree (0.016194)\n",
      "16. marital_single (0.015466)\n",
      "17. job_technician (0.015197)\n",
      "18. day_of_week_tue (0.014955)\n",
      "19. loan_no (0.014554)\n",
      "20. day_of_week_wed (0.014050)\n",
      "21. day_of_week_mon (0.014023)\n",
      "22. loan_yes (0.013255)\n",
      "23. day_of_week_fri (0.013018)\n",
      "24. day_of_week_thu (0.012912)\n",
      "25. previous (0.012852)\n",
      "26. job_blue-collar (0.012243)\n",
      "27. education_professional.course (0.011846)\n",
      "28. education_basic.9y (0.010817)\n",
      "29. marital_divorced (0.010573)\n",
      "30. poutcome_nonexistent (0.010264)\n",
      "31. job_services (0.009491)\n",
      "32. job_management (0.009313)\n",
      "33. education_basic.4y (0.008203)\n",
      "34. poutcome_failure (0.007595)\n",
      "35. default_unknown (0.007371)\n",
      "36. contact_cellular (0.007362)\n",
      "37. education_basic.6y (0.007299)\n",
      "38. default_no (0.007289)\n",
      "39. job_retired (0.006929)\n",
      "40. job_self-employed (0.006785)\n",
      "41. contact_telephone (0.006737)\n",
      "42. education_unknown (0.006718)\n",
      "43. job_entrepreneur (0.005441)\n",
      "44. month_mar (0.005433)\n",
      "45. job_student (0.005382)\n",
      "46. job_unemployed (0.004937)\n",
      "47. job_housemaid (0.004838)\n",
      "48. month_oct (0.004735)\n",
      "49. month_may (0.004182)\n",
      "50. month_apr (0.003592)\n",
      "51. month_nov (0.002996)\n",
      "52. housing_unknown (0.002495)\n",
      "53. loan_unknown (0.002363)\n",
      "54. month_jun (0.002262)\n",
      "55. job_unknown (0.002133)\n",
      "56. month_jul (0.002124)\n",
      "57. month_aug (0.001808)\n",
      "58. month_sep (0.001445)\n",
      "59. marital_unknown (0.001142)\n",
      "60. month_dec (0.000794)\n",
      "61. education_illiterate (0.000294)\n",
      "62. default_yes (0.000001)\n"
     ]
    }
   ],
   "source": [
    "importances = clf.feature_importances_\n",
    "std = np.std(\n",
    "    [tree.feature_importances_ for tree in clf.estimators_],\n",
    "    axis=0\n",
    ")\n",
    "indices = np.argsort(importances)[::-1]\n",
    "print(\"Feature ranking:\")\n",
    "for f in range(x.shape[1]):\n",
    "    print(\"%d. %s (%f)\" % (f + 1, features[indices[f]], importances[indices[f]]))"
   ]
  },
  {
   "cell_type": "code",
   "execution_count": 21,
   "metadata": {},
   "outputs": [
    {
     "data": {
      "text/plain": [
       "(0, 0.17468179148437993)"
      ]
     },
     "execution_count": 21,
     "metadata": {},
     "output_type": "execute_result"
    },
    {
     "data": {
      "image/png": "[encoded data removed]",
      "text/plain": [
       "<matplotlib.figure.Figure at 0x7fc974f6f588>"
      ]
     },
     "metadata": {},
     "output_type": "display_data"
    }
   ],
   "source": [
    "# Plot the feature importances of the forest\n",
    "fig = plt.figure()\n",
    "plt.title(\"Feature importances\")\n",
    "plt.bar(\n",
    "    range(x.shape[1]), \n",
    "    importances[indices],\n",
    "    color = \"g\", \n",
    "    yerr = std[indices], \n",
    "    align = \"center\"\n",
    ")\n",
    "plt.xticks(range(x.shape[1]), np.array(features)[indices])\n",
    "plt.xlim([-1, x.shape[1]])\n",
    "fig.set_size_inches(15,8)\n",
    "axes = plt.gca()\n",
    "axes.set_ylim([0,None])"
   ]
  },
  {
   "cell_type": "markdown",
   "metadata": {},
   "source": [
    "# Computing and Printing the Confusion Matrix"
   ]
  },
  {
   "cell_type": "code",
   "execution_count": 22,
   "metadata": {},
   "outputs": [],
   "source": [
    "# Compute confusion matrix\n",
    "y_pred = clf.predict(x)\n",
    "cnf_matrix = confusion_matrix(y, y_pred)\n",
    "np.set_printoptions(precision=2)"
   ]
  },
  {
   "cell_type": "markdown",
   "metadata": {},
   "source": [
    "# Defining the method to plot the Confusion Matrix "
   ]
  },
  {
   "cell_type": "code",
   "execution_count": 23,
   "metadata": {},
   "outputs": [],
   "source": [
    "def plot_confusion_matrix(cm, classes,\n",
    "                          normalize=False,\n",
    "                          title='Confusion matrix',\n",
    "                          cmap=plt.cm.Blues):\n",
    "    \"\"\"\n",
    "    This function prints and plots the confusion matrix.\n",
    "    Normalization can be applied by setting `normalize=True`.\n",
    "    \"\"\"\n",
    "    if normalize:\n",
    "        cm = cm.astype('float') / cm.sum(axis=1)[:, np.newaxis]\n",
    "        print(\"Normalized confusion matrix\")\n",
    "    else:\n",
    "        print('Confusion matrix, without normalization')\n",
    "\n",
    "    print(cm)\n",
    "\n",
    "    plt.imshow(cm, interpolation='nearest', cmap=cmap)\n",
    "    plt.title(title)\n",
    "    plt.colorbar()\n",
    "    tick_marks = np.arange(len(classes))\n",
    "    plt.xticks(tick_marks, classes, rotation=45)\n",
    "    plt.yticks(tick_marks, classes)\n",
    "\n",
    "    fmt = '.2f' if normalize else 'd'\n",
    "    thresh = cm.max() / 2.\n",
    "    for i, j in itertools.product(range(cm.shape[0]), range(cm.shape[1])):\n",
    "        plt.text(j, i, format(cm[i, j], fmt),\n",
    "                 horizontalalignment=\"center\",\n",
    "                 color=\"white\" if cm[i, j] > thresh else \"black\")\n",
    "\n",
    "    plt.tight_layout()\n",
    "    plt.ylabel('True label')\n",
    "    plt.xlabel('Predicted label')"
   ]
  },
  {
   "cell_type": "code",
   "execution_count": 24,
   "metadata": {},
   "outputs": [
    {
     "name": "stdout",
     "output_type": "stream",
     "text": [
      "Normalized confusion matrix\n",
      "[[1.   0.  ]\n",
      " [0.14 0.86]]\n"
     ]
    },
    {
     "data": {
      "image/png": "[encoded data removed]",
      "text/plain": [
       "<matplotlib.figure.Figure at 0x7fc9751ddbe0>"
      ]
     },
     "metadata": {},
     "output_type": "display_data"
    }
   ],
   "source": [
    "# Plot non-normalized confusion matrix\n",
    "plt.figure()\n",
    "plot_confusion_matrix(cnf_matrix, classes=range(len(set(y))), normalize = True,\n",
    "title='Confusion matrix')"
   ]
  }
 ],
 "metadata": {
  "kernelspec": {
   "display_name": "Python 3",
   "language": "python",
   "name": "python3"
  },
  "language_info": {
   "codemirror_mode": {
    "name": "ipython",
    "version": 3
   },
   "file_extension": ".py",
   "mimetype": "text/x-python",
   "name": "python",
   "nbconvert_exporter": "python",
   "pygments_lexer": "ipython3",
   "version": "3.5.2"
  }
 },
 "nbformat": 4,
 "nbformat_minor": 2
}
