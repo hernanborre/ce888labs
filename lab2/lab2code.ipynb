{
 "cells": [
  {
   "cell_type": "code",
   "execution_count": 1,
   "metadata": {},
   "outputs": [],
   "source": [
    "import warnings\n",
    "#warnings.filterwarnings(action='once')\n",
    "warnings.filterwarnings(action='ignore')"
   ]
  },
  {
   "cell_type": "code",
   "execution_count": 2,
   "metadata": {
    "scrolled": true
   },
   "outputs": [],
   "source": [
    "%matplotlib inline\n",
    "\n",
    "import matplotlib\n",
    "matplotlib.use('Agg')\n",
    "\n",
    "import pandas as pd\n",
    "import random\n",
    "import matplotlib.pyplot as plt\n",
    "import seaborn as sns\n",
    "\n",
    "import numpy as np "
   ]
  },
  {
   "cell_type": "code",
   "execution_count": 3,
   "metadata": {},
   "outputs": [
    {
     "name": "stdout",
     "output_type": "stream",
     "text": [
      "<class 'pandas.core.frame.DataFrame'>\n",
      "RangeIndex: 249 entries, 0 to 248\n",
      "Data columns (total 2 columns):\n",
      "Current fleet    249 non-null int64\n",
      "New Fleet        79 non-null float64\n",
      "dtypes: float64(1), int64(1)\n",
      "memory usage: 4.0 KB\n",
      "None\n"
     ]
    },
    {
     "data": {
      "text/html": [
       "<div>\n",
       "<style scoped>\n",
       "    .dataframe tbody tr th:only-of-type {\n",
       "        vertical-align: middle;\n",
       "    }\n",
       "\n",
       "    .dataframe tbody tr th {\n",
       "        vertical-align: top;\n",
       "    }\n",
       "\n",
       "    .dataframe thead th {\n",
       "        text-align: right;\n",
       "    }\n",
       "</style>\n",
       "<table border=\"1\" class=\"dataframe\">\n",
       "  <thead>\n",
       "    <tr style=\"text-align: right;\">\n",
       "      <th></th>\n",
       "      <th>Current fleet</th>\n",
       "      <th>New Fleet</th>\n",
       "    </tr>\n",
       "  </thead>\n",
       "  <tbody>\n",
       "    <tr>\n",
       "      <th>0</th>\n",
       "      <td>18</td>\n",
       "      <td>24.0</td>\n",
       "    </tr>\n",
       "    <tr>\n",
       "      <th>1</th>\n",
       "      <td>15</td>\n",
       "      <td>27.0</td>\n",
       "    </tr>\n",
       "    <tr>\n",
       "      <th>2</th>\n",
       "      <td>18</td>\n",
       "      <td>27.0</td>\n",
       "    </tr>\n",
       "    <tr>\n",
       "      <th>3</th>\n",
       "      <td>16</td>\n",
       "      <td>25.0</td>\n",
       "    </tr>\n",
       "    <tr>\n",
       "      <th>4</th>\n",
       "      <td>17</td>\n",
       "      <td>31.0</td>\n",
       "    </tr>\n",
       "  </tbody>\n",
       "</table>\n",
       "</div>"
      ],
      "text/plain": [
       "   Current fleet  New Fleet\n",
       "0             18       24.0\n",
       "1             15       27.0\n",
       "2             18       27.0\n",
       "3             16       25.0\n",
       "4             17       31.0"
      ]
     },
     "execution_count": 3,
     "metadata": {},
     "output_type": "execute_result"
    }
   ],
   "source": [
    "df = pd.read_csv(\"vehicles.csv\")\n",
    "print(df.info())\n",
    "df.head()"
   ]
  },
  {
   "cell_type": "code",
   "execution_count": 4,
   "metadata": {},
   "outputs": [],
   "source": [
    "dfc = df.columns.copy()"
   ]
  },
  {
   "cell_type": "code",
   "execution_count": 5,
   "metadata": {},
   "outputs": [
    {
     "data": {
      "image/png": "[encoded data removed]",
      "text/plain": [
       "<matplotlib.figure.Figure at 0x7f47441ed9b0>"
      ]
     },
     "metadata": {},
     "output_type": "display_data"
    }
   ],
   "source": [
    "#sns_plot = sns.lmplot(df.columns[0], df.columns[1], data=df, fit_reg=False)\n",
    "\n",
    "is_dup = df['Current fleet'].value_counts()\n",
    "#sns_plot = sns.lmplot(is_dup.index, df.columns['Current fleet'], data=df, fit_reg=False)\n",
    "plt.figure(figsize=(8,4))\n",
    "sns.barplot(is_dup.index, is_dup.values, alpha=0.8)\n",
    "plt.show()\n",
    "\n",
    "#sns_plot = sns.lmplot(dfc.index.values, dfc.columns[0], data=dfc, fit_reg=False)\n",
    "#sns_plot.axes[0,0].set_ylim(0,)\n",
    "#sns_plot.axes[0,0].set_xlim(0,)"
   ]
  },
  {
   "cell_type": "code",
   "execution_count": 6,
   "metadata": {},
   "outputs": [
    {
     "data": {
      "image/png": "[encoded data removed]",
      "text/plain": [
       "<matplotlib.figure.Figure at 0x7f4743aaa208>"
      ]
     },
     "metadata": {},
     "output_type": "display_data"
    }
   ],
   "source": [
    "is_dup = df['New Fleet'].value_counts()\n",
    "#sns_plot = sns.lmplot(is_dup.index, df.columns['Current fleet'], data=df, fit_reg=False)\n",
    "plt.figure(figsize=(8,4))\n",
    "sns.barplot(is_dup.index, is_dup.values, alpha=0.8)\n",
    "plt.show()"
   ]
  },
  {
   "cell_type": "code",
   "execution_count": 7,
   "metadata": {},
   "outputs": [],
   "source": [
    "def bootstrap(statistic_func, iterations, data):\n",
    "    vals = []\n",
    "    samples = np.random.choice(data, replace=True, size=[iterations, len(data)])\n",
    "    for sample in samples:\n",
    "        sta = statistic_func(sample)\n",
    "        vals.append(sta)\n",
    "    b = np.array(vals)\n",
    "    # print b\n",
    "    lower, upper = np.percentile(b, [2.5, 97.5])\n",
    "    return np.mean(b), lower, upper"
   ]
  },
  {
   "cell_type": "code",
   "execution_count": 10,
   "metadata": {},
   "outputs": [
    {
     "name": "stdout",
     "output_type": "stream",
     "text": [
      "::::: Standard Deviation: Current Fleet\n",
      "STD : 6.401805\n",
      "STD Mean: 6.383341\n",
      "STD Lower Bound : 5.809777\n",
      "STD Upper Bound: 6.945456\n",
      "\n",
      "\n",
      "::::: Standard Deviation: Proposed Fleet\n",
      "STD : 6.068931\n",
      "STD Mean: 6.011220\n",
      "STD Lower Bound : 5.137868\n",
      "STD Upper Bound: 6.904766\n"
     ]
    }
   ],
   "source": [
    "boots = []\n",
    "samples = 100000\n",
    "df = pd.read_csv('./vehicles.csv')\n",
    "fleet_current = df.values.T[0]\n",
    "fleet_proposed = df.dropna().values.T[1]\n",
    "\n",
    "# Find the upper and lower bound of the standard deviation in the current fleet.\n",
    "# Current fleet.\n",
    "boot = bootstrap(np.std, samples, fleet_current)\n",
    "print(\"::::: Standard Deviation: Current Fleet\")\n",
    "print(\"STD : %f\" % np.std(fleet_current))\n",
    "print(\"STD Mean: %f\" % boot[0])\n",
    "print(\"STD Lower Bound : %f\" % boot[1])\n",
    "print(\"STD Upper Bound: %f\" % boot[2])\n",
    "\n",
    "# Proposed fleet.\n",
    "boot = bootstrap(np.std, samples, fleet_proposed)\n",
    "print(\"\\n\")\n",
    "print(\"::::: Standard Deviation: Proposed Fleet\")\n",
    "print(\"STD : %f\" % np.std(fleet_proposed))\n",
    "print(\"STD Mean: %f\" % boot[0])\n",
    "print(\"STD Lower Bound : %f\" % boot[1])\n",
    "print(\"STD Upper Bound: %f\" % boot[2])"
   ]
  },
  {
   "cell_type": "code",
   "execution_count": 11,
   "metadata": {},
   "outputs": [],
   "source": [
    "def mad(arr):\n",
    "    \"\"\" Median Absolute Deviation: a \"Robust\" version of standard deviation.\n",
    "        Indices variabililty of the sample.\n",
    "        https://en.wikipedia.org/wiki/Median_absolute_deviation \n",
    "        http://stackoverflow.com/questions/8930370/where-can-i-find-mad-mean-absolute-deviation-in-scipy\n",
    "    \"\"\"\n",
    "    arr = np.ma.array(arr).compressed() # should be faster to not use masked arrays.\n",
    "    med = np.median(arr)\n",
    "    return np.median(np.abs(arr - med))"
   ]
  },
  {
   "cell_type": "code",
   "execution_count": 19,
   "metadata": {},
   "outputs": [
    {
     "name": "stdout",
     "output_type": "stream",
     "text": [
      "::::: Summary Statistics: Current Fleet\n",
      "Mean: 20.144578\n",
      "Median: 19.000000\n",
      "Var: 40.983113\n",
      "std: 6.401805\n",
      "MAD: 4.000000\n",
      "\n",
      "\n",
      "::::: Summary Statistics: Proposed Fleet\n",
      "Mean: 30.481013\n",
      "Median: 32.000000\n",
      "Var: 36.831918\n",
      "std: 6.068931\n",
      "MAD: 4.000000\n"
     ]
    }
   ],
   "source": [
    "# READ DATA\n",
    "df = pd.read_csv('./vehicles.csv')\n",
    "\n",
    "# TRANSPOSE DATA\n",
    "data_current_fleet = df.values.T[0]\n",
    "data_proposed_fleet = df.dropna().values.T[1]\n",
    "\n",
    "# PRINT SUMMARY STATISTICS\n",
    "print(\"::::: Summary Statistics: Current Fleet\")\n",
    "print(((\"Mean: %f\")%(np.mean(data_current_fleet))))\n",
    "print(((\"Median: %f\")%(np.median(data_current_fleet))))\n",
    "print(((\"Var: %f\")%(np.var(data_current_fleet))))\n",
    "print(((\"std: %f\")%(np.std(data_current_fleet))))\n",
    "print(((\"MAD: %f\")%(mad(data_current_fleet))))\n",
    "\n",
    "print(\"\\n\")\n",
    "print(\"::::: Summary Statistics: Proposed Fleet\")\n",
    "print(((\"Mean: %f\")%(np.mean(data_proposed_fleet))))\n",
    "print(((\"Median: %f\")%(np.median(data_proposed_fleet))))\n",
    "print(((\"Var: %f\")%(np.var(data_proposed_fleet))))\n",
    "print(((\"std: %f\")%(np.std(data_proposed_fleet))))\n",
    "print(((\"MAD: %f\")%(mad(data_proposed_fleet))))"
   ]
  },
  {
   "cell_type": "markdown",
   "metadata": {},
   "source": [
    "# HISTOGRAMS"
   ]
  },
  {
   "cell_type": "code",
   "execution_count": 17,
   "metadata": {},
   "outputs": [
    {
     "data": {
      "image/png": "[encoded data removed]",
      "text/plain": [
       "<matplotlib.figure.Figure at 0x7f474196f828>"
      ]
     },
     "metadata": {},
     "output_type": "display_data"
    }
   ],
   "source": [
    "# CURRENT FLEET\n",
    "plt.clf()\n",
    "sns_plot2 = sns.distplot(data_current_fleet, bins=20, kde=False, rug=True).get_figure()\n",
    "axes = plt.gca()\n",
    "axes.set_xlabel('Fuel Consumption (MPG)')\n",
    "axes.set_ylabel('Vehicle Count')\n",
    "sns_plot2.savefig(\"histogram_vehicles_current_fleet.png\",bbox_inches='tight')\n",
    "sns_plot2.savefig(\"histogram_vehicles_current_fleet.pdf\",bbox_inches='tight')"
   ]
  },
  {
   "cell_type": "code",
   "execution_count": 18,
   "metadata": {},
   "outputs": [
    {
     "data": {
      "image/png": "[encoded data removed]",
      "text/plain": [
       "<matplotlib.figure.Figure at 0x7f47410bd240>"
      ]
     },
     "metadata": {},
     "output_type": "display_data"
    }
   ],
   "source": [
    "# PROPOSED FLEET\n",
    "plt.clf()\n",
    "sns_plot2 = sns.distplot(data_proposed_fleet, bins=20, kde=False, rug=True).get_figure()\n",
    "axes = plt.gca()\n",
    "axes.set_xlabel('Fuel Consumption (MPG)')\n",
    "axes.set_ylabel('Vehicle Count')\n",
    "sns_plot2.savefig(\"histogram_vehicles_proposed_fleet.png\",bbox_inches='tight')\n",
    "sns_plot2.savefig(\"histogram_vehicles_proposed_fleet.pdf\",bbox_inches='tight')"
   ]
  }
 ],
 "metadata": {
  "kernelspec": {
   "display_name": "Python 3",
   "language": "python",
   "name": "python3"
  },
  "language_info": {
   "codemirror_mode": {
    "name": "ipython",
    "version": 3
   },
   "file_extension": ".py",
   "mimetype": "text/x-python",
   "name": "python",
   "nbconvert_exporter": "python",
   "pygments_lexer": "ipython3",
   "version": "3.5.2"
  }
 },
 "nbformat": 4,
 "nbformat_minor": 2
}
